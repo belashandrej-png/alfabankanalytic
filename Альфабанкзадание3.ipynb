{
 "cells": [
  {
   "cell_type": "code",
   "execution_count": 1,
   "id": "aa7091d8-5bb0-4ac4-b64b-a6894681d00d",
   "metadata": {},
   "outputs": [],
   "source": [
    "import zipfile\n",
    "import os\n",
    "import json\n",
    "import pandas as pd\n",
    "from datetime import datetime, timedelta"
   ]
  },
  {
   "cell_type": "code",
   "execution_count": 2,
   "id": "ccafe58c-c3b2-4d27-b7c2-ec9fbd60a86c",
   "metadata": {},
   "outputs": [],
   "source": [
    "zip_path = r\"C:\\Users\\andreyb\\Downloads\\jsons.zip\"\n",
    "parquet_path = r\"C:\\Users\\andreyb\\Downloads\\deal_delqs_logs.pq\"\n",
    "extract_dir = r\"C:\\Users\\andreyb\\Downloads\\jsons_extracted\""
   ]
  },
  {
   "cell_type": "markdown",
   "id": "ea2d05d0-1816-4506-88cc-f6a198d0ddf8",
   "metadata": {},
   "source": [
    "# Распаковка zip архива"
   ]
  },
  {
   "cell_type": "code",
   "execution_count": 4,
   "id": "4229f404-4525-49a4-b912-11588642e5d9",
   "metadata": {},
   "outputs": [],
   "source": [
    "# Распаковка zip архива\n",
    "os.makedirs(extract_dir, exist_ok=True)\n",
    "\n",
    "with zipfile.ZipFile(zip_path, 'r') as zip_ref:\n",
    "    zip_ref.extractall(extract_dir)"
   ]
  },
  {
   "cell_type": "code",
   "execution_count": 50,
   "id": "9b347564-cc20-43ea-b3ed-f90e4134de25",
   "metadata": {},
   "outputs": [],
   "source": [
    "jsons_folder = r'C:\\Users\\andreyb\\Downloads\\jsons_extracted\\jsons'\n",
    "\n",
    "data = []\n",
    "\n",
    "for filename in os.listdir(jsons_folder):\n",
    "    if filename.endswith('.json'):\n",
    "        filepath = os.path.join(jsons_folder, filename)\n",
    "        with open(filepath, 'r', encoding='utf-8') as f:\n",
    "            js = json.load(f)\n",
    "\n",
    "        loan_id = js.get('loanID')\n",
    "        event_time = js.get('eventTime')\n",
    "        model_id = js.get('modelID')\n",
    "\n",
    "        # Предполагаем, что нужен скоринг \"pd\" из values\n",
    "        score = None\n",
    "        if 'values' in js and 'pd' in js['values']:\n",
    "            score = js['values']['pd']\n",
    "\n",
    "        data.append({\n",
    "            'loan_id': loan_id,\n",
    "            'event_time': pd.to_datetime(event_time),\n",
    "            'model_id': model_id,\n",
    "            'score': score,\n",
    "        })"
   ]
  },
  {
   "cell_type": "code",
   "execution_count": 51,
   "id": "1de8ee14-02a6-4358-8219-60c097877b30",
   "metadata": {},
   "outputs": [
    {
     "name": "stdout",
     "output_type": "stream",
     "text": [
      "                loan_id              event_time            model_id     score\n",
      "0        CC2024043011d0 2024-04-30 07:16:48.741        pd-cc-online  0.134959\n",
      "1       CAR20240213645e 2024-02-13 11:27:10.937      pd-auto-online       NaN\n",
      "2  MORTGAGE20240116754e 2024-01-16 07:52:06.260  pd-mortgage-online  0.075389\n",
      "3        CC202403029ee2 2024-03-02 23:00:46.748        pd-cc-online  0.150639\n",
      "4       CAR2024010306b1 2024-01-03 16:05:31.680      pd-auto-online       NaN\n"
     ]
    }
   ],
   "source": [
    "df_scores = pd.DataFrame(data)\n",
    "print(df_scores.head())"
   ]
  },
  {
   "cell_type": "markdown",
   "id": "246642fc-f040-46d3-b702-c6be58cb7f68",
   "metadata": {},
   "source": [
    "# Загрузка JSON"
   ]
  },
  {
   "cell_type": "code",
   "execution_count": 52,
   "id": "962cd155-f78c-40bb-a4fb-bd6f0aec217b",
   "metadata": {},
   "outputs": [],
   "source": [
    "data = []\n",
    "for filename in os.listdir(jsons_folder):\n",
    "    if filename.endswith('.json'):\n",
    "        with open(os.path.join(jsons_folder, filename), 'r', encoding='utf-8') as f:\n",
    "            js = json.load(f)\n",
    "\n",
    "        loan_id = js.get('loanID')\n",
    "        event_time = js.get('eventTime')\n",
    "        model_id = js.get('modelID')\n",
    "        score = None\n",
    "        if 'values' in js and 'pd' in js['values']:\n",
    "            score = js['values']['pd']\n",
    "\n",
    "        data.append({\n",
    "            'loan_id': loan_id,\n",
    "            'event_time': pd.to_datetime(event_time),\n",
    "            'model_id': model_id,\n",
    "            'score': score\n",
    "        })\n",
    "\n",
    "df_scores = pd.DataFrame(data)"
   ]
  },
  {
   "cell_type": "markdown",
   "id": "34753b13-ce13-45cb-97fb-00c6f0fc2603",
   "metadata": {},
   "source": [
    "# Загрузка parquet"
   ]
  },
  {
   "cell_type": "code",
   "execution_count": 53,
   "id": "ce698e63-260d-4d29-bdf2-90c070e28842",
   "metadata": {},
   "outputs": [],
   "source": [
    "df_overdue = pd.read_parquet(parquet_path)\n",
    "\n",
    "# Приведение колонок к datetime\n",
    "df_overdue['period_start_date'] = pd.to_datetime(df_overdue['period_start_date'])\n",
    "df_overdue['period_end_date'] = pd.to_datetime(df_overdue['period_end_date'])"
   ]
  },
  {
   "cell_type": "markdown",
   "id": "de0d3bc6-f187-4acd-a8b8-32608a8feefa",
   "metadata": {},
   "source": [
    "# Вычисляем флаг дефолта"
   ]
  },
  {
   "cell_type": "code",
   "execution_count": 54,
   "id": "f743def0-ce63-4c6f-844e-d6553f9f6179",
   "metadata": {},
   "outputs": [],
   "source": [
    "def check_default(loan_id, scoring_date, overdue_df):\n",
    "    # Фильтруем просрочки по loan_id\n",
    "    overdue_events = overdue_df[overdue_df['loan_id'] == loan_id]\n",
    "\n",
    "    # Период проверки: от даты скоринга до +4 месяцев\n",
    "    limit_date = scoring_date + pd.DateOffset(months=4)\n",
    "\n",
    "    for _, row in overdue_events.iterrows():\n",
    "        start = row['period_start_date']\n",
    "        end = row['period_end_date']\n",
    "        duration = (end - start).days\n",
    "        if duration >= 30 and start >= scoring_date and start <= limit_date:\n",
    "            return True\n",
    "    return False"
   ]
  },
  {
   "cell_type": "code",
   "execution_count": 55,
   "id": "87991a57-afad-48b0-a73f-7cb6502b50f9",
   "metadata": {},
   "outputs": [],
   "source": [
    "df_scores['default_flag'] = df_scores.apply(\n",
    "    lambda row: check_default(row['loan_id'], row['event_time'], df_overdue), axis=1)"
   ]
  },
  {
   "cell_type": "code",
   "execution_count": 56,
   "id": "3a0d66b9-5877-42d6-82fa-d94389649567",
   "metadata": {},
   "outputs": [
    {
     "name": "stdout",
     "output_type": "stream",
     "text": [
      "                loan_id              event_time            model_id     score  \\\n",
      "0        CC2024043011d0 2024-04-30 07:16:48.741        pd-cc-online  0.134959   \n",
      "1       CAR20240213645e 2024-02-13 11:27:10.937      pd-auto-online       NaN   \n",
      "2  MORTGAGE20240116754e 2024-01-16 07:52:06.260  pd-mortgage-online  0.075389   \n",
      "3        CC202403029ee2 2024-03-02 23:00:46.748        pd-cc-online  0.150639   \n",
      "4       CAR2024010306b1 2024-01-03 16:05:31.680      pd-auto-online       NaN   \n",
      "\n",
      "   default_flag  \n",
      "0         False  \n",
      "1         False  \n",
      "2         False  \n",
      "3         False  \n",
      "4         False  \n"
     ]
    }
   ],
   "source": [
    "# Итоговый DataFrame с флагами дефолта и предсказаниями скоринга\n",
    "print(df_scores.head())"
   ]
  },
  {
   "cell_type": "markdown",
   "id": "20c2ad21-68a0-4533-8e63-2ab3dfd3abfb",
   "metadata": {},
   "source": [
    "# Динамика Gini для каждого из скоров по месячным срезам"
   ]
  },
  {
   "cell_type": "code",
   "execution_count": 57,
   "id": "cf1b7a42-b8b6-4602-b628-e9244bdeced4",
   "metadata": {},
   "outputs": [],
   "source": [
    "# Функция расчета коэффициента Джини\n",
    "def gini(actual, pred):\n",
    "    assert len(actual) == len(pred)\n",
    "    all_data = np.asarray(np.c_[actual, pred, np.arange(len(actual))], dtype=np.float64)\n",
    "    all_data = all_data[np.lexsort((all_data[:,2], -1 * all_data[:,1]))]\n",
    "    total_losses = all_data[:,0].sum()\n",
    "    gini_sum = all_data[:,0].cumsum().sum() / total_losses\n",
    "    gini_sum -= (len(actual) + 1) / 2.\n",
    "    return gini_sum / len(actual)"
   ]
  },
  {
   "cell_type": "code",
   "execution_count": 58,
   "id": "81bcda0b-cd49-4b4b-b965-82e71c0d5d07",
   "metadata": {},
   "outputs": [],
   "source": [
    "def gini_normalized(actual, pred):\n",
    "    return gini(actual, pred) / gini(actual, actual)"
   ]
  },
  {
   "cell_type": "code",
   "execution_count": 59,
   "id": "f1ddd61a-b071-4b59-9fd1-69a53282b4d5",
   "metadata": {},
   "outputs": [],
   "source": [
    "# 1. Приводим дату к периоду месяца для группировки\n",
    "df_scores['scoring_month'] = pd.to_datetime(df_scores['event_time']).dt.to_period('M')"
   ]
  },
  {
   "cell_type": "code",
   "execution_count": 61,
   "id": "d67fa761-f928-4f78-8831-e6e4c6fff496",
   "metadata": {},
   "outputs": [
    {
     "name": "stdout",
     "output_type": "stream",
     "text": [
      "  scoring_month      gini\n",
      "0       2024-01 -0.531011\n",
      "1       2024-02 -0.547687\n",
      "2       2024-03 -0.536863\n",
      "3       2024-04 -0.536905\n",
      "4       2024-05 -0.530061\n",
      "5       2024-06 -0.546382\n"
     ]
    }
   ],
   "source": [
    "# 2. Группируем по месяцу и считаем Gini\n",
    "gini_monthly = df_scores.groupby('scoring_month').apply(\n",
    "    lambda x: gini_normalized(x['default_flag'], x['score']),\n",
    "    include_groups=False\n",
    ").reset_index(name='gini')\n",
    "\n",
    "print(gini_monthly)"
   ]
  },
  {
   "cell_type": "code",
   "execution_count": 64,
   "id": "8e21f3c0-32e0-461f-9f45-bdaf8582d368",
   "metadata": {},
   "outputs": [],
   "source": [
    "from scipy.stats import bootstrap\n",
    "import numpy as np"
   ]
  },
  {
   "cell_type": "markdown",
   "id": "8778582b-7a59-416c-a737-c8ac7179003e",
   "metadata": {},
   "source": [
    "# Помесячная динамика границ 95% доверительного интервала с использованием бутстрепа"
   ]
  },
  {
   "cell_type": "code",
   "execution_count": 65,
   "id": "46657191-b400-4281-843b-0803aa09546c",
   "metadata": {},
   "outputs": [],
   "source": [
    "confidence_intervals = []\n",
    "\n",
    "for period, group in df_scores.groupby('scoring_month'):\n",
    "    n = int(0.7 * len(group))  # 70% случайных записей\n",
    "    bootstrap_ginis = []\n",
    "\n",
    "    for _ in range(1000):\n",
    "        sample = group.sample(n, replace=True)\n",
    "        g = gini_normalized(sample['default_flag'].values, sample['score'].values)\n",
    "        bootstrap_ginis.append(g)\n",
    "\n",
    "    lower_bound, upper_bound = np.percentile(bootstrap_ginis, [2.5, 97.5])\n",
    "    confidence_intervals.append({\n",
    "        'scoring_month': period,\n",
    "        'gini_lower': lower_bound,\n",
    "        'gini_upper': upper_bound\n",
    "    })"
   ]
  },
  {
   "cell_type": "code",
   "execution_count": 66,
   "id": "c1d41af1-5e4e-46c4-adc0-74dd91f1d8bf",
   "metadata": {},
   "outputs": [
    {
     "name": "stdout",
     "output_type": "stream",
     "text": [
      "  scoring_month  gini_lower  gini_upper\n",
      "0       2024-01   -0.569211   -0.517204\n",
      "1       2024-02   -0.570950   -0.508744\n",
      "2       2024-03   -0.569183   -0.516041\n",
      "3       2024-04   -0.571613   -0.515208\n",
      "4       2024-05   -0.569604   -0.515463\n",
      "5       2024-06   -0.578208   -0.524586\n"
     ]
    }
   ],
   "source": [
    "conf_df = pd.DataFrame(confidence_intervals)\n",
    "\n",
    "print(conf_df)"
   ]
  },
  {
   "cell_type": "code",
   "execution_count": 68,
   "id": "795fb06f-357d-4984-a6a9-1262fb546718",
   "metadata": {},
   "outputs": [
    {
     "data": {
      "text/plain": [
       "<Figure size 1000x600 with 0 Axes>"
      ]
     },
     "execution_count": 68,
     "metadata": {},
     "output_type": "execute_result"
    },
    {
     "data": {
      "text/plain": [
       "<Figure size 1000x600 with 0 Axes>"
      ]
     },
     "metadata": {},
     "output_type": "display_data"
    }
   ],
   "source": [
    "import matplotlib.pyplot as plt\n",
    "\n",
    "plt.figure(figsize=(10, 6))"
   ]
  },
  {
   "cell_type": "code",
   "execution_count": 69,
   "id": "07fc96b0-84da-4aab-b9dc-78335483b94f",
   "metadata": {},
   "outputs": [],
   "source": [
    "# Преобразование месяца в строку\n",
    "conf_df['scoring_month_str'] = conf_df['scoring_month'].astype(str)"
   ]
  },
  {
   "cell_type": "code",
   "execution_count": 70,
   "id": "297ded77-df44-4219-988f-99543f8a2fda",
   "metadata": {},
   "outputs": [
    {
     "data": {
      "text/plain": [
       "[<matplotlib.lines.Line2D at 0x1fc743791d0>]"
      ]
     },
     "execution_count": 70,
     "metadata": {},
     "output_type": "execute_result"
    },
    {
     "data": {
      "image/png": "[encoded data removed]",
      "text/plain": [
       "<Figure size 640x480 with 1 Axes>"
      ]
     },
     "metadata": {},
     "output_type": "display_data"
    }
   ],
   "source": [
    "# График с линией среднего Gini\n",
    "plt.plot(gini_monthly['scoring_month'].astype(str), gini_monthly['gini'], label='Gini')"
   ]
  },
  {
   "cell_type": "code",
   "execution_count": 71,
   "id": "5b3dc2c7-db72-4327-9eff-1918e0238d2e",
   "metadata": {},
   "outputs": [
    {
     "data": {
      "image/png": "[encoded data removed]",
      "text/plain": [
       "<Figure size 640x480 with 1 Axes>"
      ]
     },
     "metadata": {},
     "output_type": "display_data"
    }
   ],
   "source": [
    "# Линии доверительного интервала\n",
    "plt.fill_between(conf_df['scoring_month_str'],\n",
    "                 conf_df['gini_lower'],\n",
    "                 conf_df['gini_upper'],\n",
    "                 color='lightblue',\n",
    "                 alpha=0.4,\n",
    "                 label='95% доверительный интервал')\n",
    "\n",
    "plt.xticks(rotation=45)\n",
    "plt.xlabel('Месяц')\n",
    "plt.ylabel('Коэффициент Джини')\n",
    "plt.title('Динамика коэффициента Джини с 95% доверительным интервалом')\n",
    "plt.legend()\n",
    "plt.grid(True)\n",
    "plt.tight_layout()\n",
    "plt.show()"
   ]
  },
  {
   "cell_type": "markdown",
   "id": "a96d2921-5f4b-4230-b285-da2c91053ff2",
   "metadata": {},
   "source": [
    "# Аплифт от использования внешнего скора: найти разницу между значениями Gini финального и внутреннего скора на каждый месячный срез"
   ]
  },
  {
   "cell_type": "code",
   "execution_count": 178,
   "id": "8e8993c2-7f9f-433d-ad4a-2d0bf5256775",
   "metadata": {},
   "outputs": [
    {
     "name": "stdout",
     "output_type": "stream",
     "text": [
      "Index(['scoring_month', 'loan_id_x', 'event_time_x', 'model_id_x',\n",
      "       'gini_internal', 'default_flag_x', 'loan_id_y', 'event_time_y',\n",
      "       'model_id_y', 'gini_final', 'default_flag_y', 'gini_diff'],\n",
      "      dtype='object')\n"
     ]
    }
   ],
   "source": [
    "print(df_gini.columns)"
   ]
  },
  {
   "cell_type": "code",
   "execution_count": 179,
   "id": "66723a48-8a32-4e45-9575-9db5a322d720",
   "metadata": {},
   "outputs": [],
   "source": [
    "# Добавляем колонку месяца\n",
    "df_scores['scoring_month'] = pd.to_datetime(df_scores['event_time']).dt.to_period('M')"
   ]
  },
  {
   "cell_type": "code",
   "execution_count": 180,
   "id": "d9a940b8-9f43-4d63-be59-7000d78a6902",
   "metadata": {},
   "outputs": [],
   "source": [
    "# Вычисляем Gini внутреннего скоринга\n",
    "gini_internal = df_scores[df_scores['model_id'] == 'internal_model_id'].groupby('scoring_month').apply(\n",
    "    lambda x: gini_normalized(x['default_flag'], x['score']),\n",
    "    include_groups=False\n",
    ").reset_index()"
   ]
  },
  {
   "cell_type": "code",
   "execution_count": 181,
   "id": "8eaf461a-c360-4f1a-ad22-b2ca304b7857",
   "metadata": {},
   "outputs": [],
   "source": [
    "# Расчет Gini для внешнего скоринга\n",
    "gini_external = df_scores[df_scores['model_id'] == 'pd-auto-online'].groupby('scoring_month').apply(\n",
    "    lambda x: gini_normalized(x['default_flag'], x['score']),\n",
    "    include_groups=False\n",
    ").reset_index().rename(columns={0: 'gini_external'})"
   ]
  },
  {
   "cell_type": "code",
   "execution_count": 182,
   "id": "dece6b6a-b786-425f-b69d-d13f8a610196",
   "metadata": {},
   "outputs": [],
   "source": [
    "# Приводим scoring_month к строке для корректного объединения\n",
    "gini_internal['scoring_month'] = gini_internal['scoring_month'].astype(str)\n",
    "gini_external['scoring_month'] = gini_external['scoring_month'].astype(str)"
   ]
  },
  {
   "cell_type": "code",
   "execution_count": 183,
   "id": "fdd89a2b-65a8-43cd-a4e6-66177ec66a79",
   "metadata": {},
   "outputs": [],
   "source": [
    "# Объединяем по месяцу\n",
    "df_gini = pd.merge(gini_internal, gini_external, on='scoring_month')"
   ]
  },
  {
   "cell_type": "code",
   "execution_count": 185,
   "id": "340fcd10-b307-4f59-9376-45f217e638d8",
   "metadata": {},
   "outputs": [
    {
     "name": "stdout",
     "output_type": "stream",
     "text": [
      "Index(['scoring_month', 'loan_id', 'event_time', 'model_id', 'score',\n",
      "       'default_flag', 'gini_external'],\n",
      "      dtype='object')\n"
     ]
    }
   ],
   "source": [
    "print(df_gini.columns)"
   ]
  },
  {
   "cell_type": "code",
   "execution_count": 186,
   "id": "12ccac08-a9b6-4dc5-8832-d89943926e17",
   "metadata": {},
   "outputs": [],
   "source": [
    "df_gini = df_gini.rename(columns={'score': 'gini_internal'})"
   ]
  },
  {
   "cell_type": "code",
   "execution_count": 189,
   "id": "3925352c-426c-46f2-9cd9-6202a9c1407b",
   "metadata": {},
   "outputs": [
    {
     "name": "stdout",
     "output_type": "stream",
     "text": [
      "           loan_id              event_time      model_id     score  \\\n",
      "0   CC2024043011d0 2024-04-30 07:16:48.741  pd-cc-online  0.134959   \n",
      "3   CC202403029ee2 2024-03-02 23:00:46.748  pd-cc-online  0.150639   \n",
      "8   CC2024041711f6 2024-04-17 16:21:03.891  pd-cc-online  0.259464   \n",
      "9   CC2024010863b3 2024-01-08 16:17:31.049  pd-cc-online  0.216670   \n",
      "12  CC20240601b698 2024-06-01 00:27:48.612  pd-cc-online  0.148389   \n",
      "\n",
      "    default_flag scoring_month  \n",
      "0          False       2024-04  \n",
      "3          False       2024-03  \n",
      "8          False       2024-04  \n",
      "9          False       2024-01  \n",
      "12         False       2024-06  \n",
      "['pd-cc-online' 'pd-auto-online' 'pd-mortgage-online']\n"
     ]
    }
   ],
   "source": [
    "print(df_scores[df_scores['model_id'] == 'pd-cc-online'].head())\n",
    "print(df_scores['model_id'].unique())"
   ]
  },
  {
   "cell_type": "code",
   "execution_count": 190,
   "id": "269907e3-2a54-490e-9f74-1b2c4977e96f",
   "metadata": {},
   "outputs": [],
   "source": [
    "# Выбираем данные по внутреннему скорингу\n",
    "df_internal = df_scores[df_scores['model_id'] == 'pd-cc-online']"
   ]
  },
  {
   "cell_type": "code",
   "execution_count": 191,
   "id": "0f26e0db-f017-4062-95f5-58c983a1af9e",
   "metadata": {},
   "outputs": [],
   "source": [
    "# Используем одну группу месяца для теста\n",
    "month = df_internal['scoring_month'].iloc[0]\n",
    "test_group = df_internal[df_internal['scoring_month'] == month]"
   ]
  },
  {
   "cell_type": "code",
   "execution_count": 192,
   "id": "3f560901-f881-43ce-8963-678ad537720c",
   "metadata": {},
   "outputs": [
    {
     "name": "stdout",
     "output_type": "stream",
     "text": [
      "Gini for 2024-04: nan\n"
     ]
    },
    {
     "name": "stderr",
     "output_type": "stream",
     "text": [
      "C:\\Users\\andreyb\\AppData\\Local\\Temp\\ipykernel_8636\\3327343732.py:7: RuntimeWarning: invalid value encountered in scalar divide\n",
      "  gini_sum = all_data[:,0].cumsum().sum() / total_losses\n"
     ]
    }
   ],
   "source": [
    "# Вычисляем Gini для тестовой группы\n",
    "result = gini_normalized(test_group['default_flag'], test_group['score'])\n",
    "print(f\"Gini for {month}: {result}\")"
   ]
  },
  {
   "cell_type": "code",
   "execution_count": 193,
   "id": "02ff2e91-2084-4512-9397-db7aee1cde8a",
   "metadata": {},
   "outputs": [],
   "source": [
    "def gini_normalized(y_true, y_scores):\n",
    "    import numpy as np\n",
    "    \n",
    "    # пример простой реализации с проверкой\n",
    "    all_data = np.asarray(np.c_[y_true, y_scores])\n",
    "    all_data = all_data[np.argsort(all_data[:, 1])]\n",
    "    total_losses = all_data[:, 0].sum()\n",
    "    if total_losses == 0:\n",
    "        return np.nan  # или 0, или другое значение по договоренности\n",
    "    \n",
    "    gini_sum = all_data[:, 0].cumsum().sum() / total_losses\n",
    "    n = len(y_true)\n",
    "    \n",
    "    gini_index = 2 * gini_sum / n - (n + 1) / n\n",
    "    return gini_index"
   ]
  },
  {
   "cell_type": "code",
   "execution_count": 194,
   "id": "029e2f83-7d80-46eb-805a-881a4d9c4149",
   "metadata": {},
   "outputs": [],
   "source": [
    "def gini_normalized_safe(y_true, y_scores):\n",
    "    if y_true.sum() == 0:\n",
    "        return np.nan\n",
    "    else:\n",
    "        return gini_normalized(y_true, y_scores)"
   ]
  },
  {
   "cell_type": "code",
   "execution_count": 196,
   "id": "5e15d73b-0974-41ba-8821-1c2f768c27e3",
   "metadata": {},
   "outputs": [],
   "source": [
    "gini_internal = df_scores[df_scores['model_id'] == 'pd-cc-online'].groupby('scoring_month').apply(\n",
    "    lambda x: gini_normalized_safe(x['default_flag'], x['score']),\n",
    "    include_groups=False\n",
    ").reset_index().rename(columns={0: 'gini_internal'})"
   ]
  },
  {
   "cell_type": "code",
   "execution_count": 198,
   "id": "9a288fbe-58be-4e32-b44c-e643522ff5d9",
   "metadata": {},
   "outputs": [],
   "source": [
    "gini_external = df_scores[df_scores['model_id'] == 'pd-auto-online'].groupby('scoring_month').apply(\n",
    "    lambda x: gini_normalized_safe(x['default_flag'], x['score']),\n",
    "    include_groups=False\n",
    ").reset_index().rename(columns={0: 'gini_external'})"
   ]
  },
  {
   "cell_type": "code",
   "execution_count": 199,
   "id": "b50101b3-29d4-4d71-91e1-b7cef11aa97d",
   "metadata": {},
   "outputs": [],
   "source": [
    "# Приводим scoring_month к строковому типу для объединения\n",
    "gini_internal['scoring_month'] = gini_internal['scoring_month'].astype(str)\n",
    "gini_external['scoring_month'] = gini_external['scoring_month'].astype(str)"
   ]
  },
  {
   "cell_type": "code",
   "execution_count": 200,
   "id": "2ea98a96-175f-428f-be05-c5058e1dd7de",
   "metadata": {},
   "outputs": [],
   "source": [
    "# Объединяем обе таблицы по месяцу\n",
    "df_gini = pd.merge(gini_internal, gini_external, on='scoring_month', how='inner')"
   ]
  },
  {
   "cell_type": "code",
   "execution_count": 203,
   "id": "12e43b22-73f7-41c7-8c8b-de790500d782",
   "metadata": {},
   "outputs": [
    {
     "name": "stdout",
     "output_type": "stream",
     "text": [
      "  scoring_month  gini_internal  gini_external  gini_lift\n",
      "0       2024-01            NaN       0.026242        NaN\n",
      "1       2024-02            NaN      -0.015906        NaN\n",
      "2       2024-03            NaN       0.011739        NaN\n",
      "3       2024-04            NaN       0.013442        NaN\n",
      "4       2024-05            NaN       0.027777        NaN\n",
      "5       2024-06            NaN       0.009144        NaN\n"
     ]
    }
   ],
   "source": [
    "# Рассчитываем аплифт - разницу Gini\n",
    "df_gini['gini_lift'] = df_gini['gini_external'] - df_gini['gini_internal']\n",
    "\n",
    "# Выводим результат\n",
    "print(df_gini)"
   ]
  },
  {
   "cell_type": "code",
   "execution_count": 204,
   "id": "644dd2be-4fad-4a26-a3ed-afc1c96bcaa2",
   "metadata": {},
   "outputs": [],
   "source": [
    "# Рассчитаем среднее значение Gini внешнего скоринга, игнорируя NaN\n",
    "mean_gini_external = df_gini['gini_external'].mean()"
   ]
  },
  {
   "cell_type": "code",
   "execution_count": 205,
   "id": "6a657ef8-dde6-485f-a0e3-354e82551fef",
   "metadata": {},
   "outputs": [
    {
     "name": "stdout",
     "output_type": "stream",
     "text": [
      "Среднее значение Gini внешнего скоринга: 0.0121\n"
     ]
    }
   ],
   "source": [
    "# Выведем среднее значение\n",
    "print(f\"Среднее значение Gini внешнего скоринга: {mean_gini_external:.4f}\")"
   ]
  },
  {
   "cell_type": "code",
   "execution_count": 206,
   "id": "68a831bd-9613-4fd2-8d8c-84c183411dce",
   "metadata": {},
   "outputs": [
    {
     "name": "stdout",
     "output_type": "stream",
     "text": [
      "Сигнал качества финального скоринга: Красный\n"
     ]
    }
   ],
   "source": [
    "# Выставим цвет сигнала по значениям\n",
    "if mean_gini_external < 0.35:\n",
    "    signal = \"Красный\"\n",
    "elif 0.35 <= mean_gini_external <= 0.50:\n",
    "    signal = \"Жёлтый\"\n",
    "else:\n",
    "    signal = \"Зелёный\"\n",
    "\n",
    "print(f\"Сигнал качества финального скоринга: {signal}\")"
   ]
  },
  {
   "cell_type": "code",
   "execution_count": null,
   "id": "8dd0d633-1fa0-42fa-b2b1-aedb042d8dd9",
   "metadata": {},
   "outputs": [],
   "source": []
  }
 ],
 "metadata": {
  "kernelspec": {
   "display_name": "Python 3 (ipykernel)",
   "language": "python",
   "name": "python3"
  },
  "language_info": {
   "codemirror_mode": {
    "name": "ipython",
    "version": 3
   },
   "file_extension": ".py",
   "mimetype": "text/x-python",
   "name": "python",
   "nbconvert_exporter": "python",
   "pygments_lexer": "ipython3",
   "version": "3.13.5"
  }
 },
 "nbformat": 4,
 "nbformat_minor": 5
}
